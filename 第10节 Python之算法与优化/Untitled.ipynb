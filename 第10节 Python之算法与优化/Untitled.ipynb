{
 "cells": [
  {
   "cell_type": "markdown",
   "metadata": {},
   "source": [
    "# 从lst = [1,(2,3,4),5]中，提取4出来。"
   ]
  },
  {
   "cell_type": "code",
   "execution_count": 3,
   "metadata": {},
   "outputs": [
    {
     "data": {
      "text/plain": [
       "4"
      ]
     },
     "execution_count": 3,
     "metadata": {},
     "output_type": "execute_result"
    }
   ],
   "source": [
    "lst = [1, (2, 3, 4), 5]\n",
    "_,(*_, a),_ = lst\n",
    "a"
   ]
  },
  {
   "cell_type": "code",
   "execution_count": 6,
   "metadata": {},
   "outputs": [
    {
     "name": "stdout",
     "output_type": "stream",
     "text": [
      "4\n",
      "5\n"
     ]
    }
   ],
   "source": [
    "lst = [1, (2, 3, 4), 5]\n",
    "_,[*_, a],_ = lst\n",
    "print(a)\n",
    "print(_)"
   ]
  },
  {
   "cell_type": "markdown",
   "metadata": {},
   "source": [
    "# 环境变量JAVA_HOME=/usr/bin，返回变量名和路径"
   ]
  },
  {
   "cell_type": "code",
   "execution_count": 11,
   "metadata": {},
   "outputs": [
    {
     "name": "stdout",
     "output_type": "stream",
     "text": [
      "JAVA_HOME\n",
      "/usr/bin\n"
     ]
    }
   ],
   "source": [
    "s = 'JAVA_HOME=/usr/bin'\n",
    "print(s.partition('=')[0])\n",
    "print(s.partition('=')[2])"
   ]
  },
  {
   "cell_type": "code",
   "execution_count": 15,
   "metadata": {},
   "outputs": [
    {
     "name": "stdout",
     "output_type": "stream",
     "text": [
      "/usr/bin\n",
      "JAVA_HOME\n"
     ]
    }
   ],
   "source": [
    "s = 'JAVA_HOME=/usr/bin'\n",
    "print(s.split('=', maxsplit=1)[-1])\n",
    "print(s.split('=', maxsplit=1)[0])"
   ]
  },
  {
   "cell_type": "code",
   "execution_count": 18,
   "metadata": {},
   "outputs": [
    {
     "name": "stdout",
     "output_type": "stream",
     "text": [
      "JAVA_HOME\n",
      "/usr/bin\n"
     ]
    }
   ],
   "source": [
    "s = 'JAVA_HOME=/usr/bin'\n",
    "var,_,path = s.partition(\"=\")\n",
    "print(var)\n",
    "print(path)"
   ]
  },
  {
   "cell_type": "code",
   "execution_count": 20,
   "metadata": {},
   "outputs": [
    {
     "name": "stdout",
     "output_type": "stream",
     "text": [
      "JAVA_HOME\n",
      "/usr/bin\n"
     ]
    }
   ],
   "source": [
    "s = 'JAVA_HOME=/usr/bin'\n",
    "var,*_,path = s.split(\"=\")\n",
    "print(var)\n",
    "print(path)"
   ]
  },
  {
   "cell_type": "markdown",
   "metadata": {},
   "source": [
    "# 对列表[1,9,8,5,6,7,4,3,2]使用冒泡排序，要求使用封装和解构来交互数据。"
   ]
  },
  {
   "cell_type": "code",
   "execution_count": 1,
   "metadata": {},
   "outputs": [
    {
     "name": "stdout",
     "output_type": "stream",
     "text": [
      "[1, 2, 3, 4, 5, 6, 7, 8, 9]\n"
     ]
    }
   ],
   "source": [
    "lst = [1,9,8,5,6,7,4,3,2]\n",
    "\n",
    "for i in range(len(lst)-1):\n",
    "    for j in range(len(lst)-i-1):\n",
    "        if lst[j] > lst[j+1]:\n",
    "            lst[j+1], lst[j] = lst[j], lst[j+1]\n",
    "print(lst)"
   ]
  }
 ],
 "metadata": {
  "kernelspec": {
   "display_name": "Python 3",
   "language": "python",
   "name": "python3"
  },
  "language_info": {
   "codemirror_mode": {
    "name": "ipython",
    "version": 3
   },
   "file_extension": ".py",
   "mimetype": "text/x-python",
   "name": "python",
   "nbconvert_exporter": "python",
   "pygments_lexer": "ipython3",
   "version": "3.6.5"
  }
 },
 "nbformat": 4,
 "nbformat_minor": 2
}
