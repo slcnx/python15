{
 "cells": [
  {
   "cell_type": "code",
   "execution_count": 1,
   "metadata": {},
   "outputs": [
    {
     "name": "stdout",
     "output_type": "stream",
     "text": [
      "0\n",
      "[1, 2, 3]\n",
      "1\n",
      "[4, 5, 6]\n",
      "2\n",
      "[7, 8, 9]\n"
     ]
    }
   ],
   "source": [
    "lst =  [[1,2,3],[4,5,6],[7,8,9]]\n",
    "\n",
    "for i, row in enumerate(lst):\n",
    "    print(i)\n",
    "    print(row)"
   ]
  },
  {
   "cell_type": "code",
   "execution_count": 5,
   "metadata": {},
   "outputs": [
    {
     "name": "stdout",
     "output_type": "stream",
     "text": [
      "[[1, 4, 7], [2, 5, 8], [3, 6, 9]]\n"
     ]
    }
   ],
   "source": [
    "lst =  [[1,2,3],[4,5,6],[7,8,9]]\n",
    "for i, row in enumerate(lst):\n",
    "    for j, col in enumerate(row):\n",
    "        \"\"\"只使用索引\"\"\"\n",
    "        if i > j:\n",
    "            lst[i][j], lst[j][i] = lst[j][i], lst[i][j]\n",
    "            \n",
    "print(lst)\n",
    "        "
   ]
  }
 ],
 "metadata": {
  "kernelspec": {
   "display_name": "Python 3",
   "language": "python",
   "name": "python3"
  },
  "language_info": {
   "codemirror_mode": {
    "name": "ipython",
    "version": 3
   },
   "file_extension": ".py",
   "mimetype": "text/x-python",
   "name": "python",
   "nbconvert_exporter": "python",
   "pygments_lexer": "ipython3",
   "version": "3.6.5"
  }
 },
 "nbformat": 4,
 "nbformat_minor": 2
}
