{
 "cells": [
  {
   "cell_type": "markdown",
   "metadata": {},
   "source": [
    "## 用户输入一个数字\n",
    "    * 判断是几位数\n",
    "    * 打印每一位数及其重复的次数。打印顺序个、十、百、千、万...位打印"
   ]
  },
  {
   "cell_type": "code",
   "execution_count": 66,
   "metadata": {
    "scrolled": true
   },
   "outputs": [
    {
     "name": "stdout",
     "output_type": "stream",
     "text": [
      "decimal >>>123 \n",
      "the num 123 length is 3\n"
     ]
    }
   ],
   "source": [
    "num = None #好的习惯，对使用变量先赋值为空 num = \"\"\n",
    "\n",
    "while 1:\n",
    "    \"\"\"获取一个正常数值。纯数字。左侧不能有0。\"\"\"\n",
    "    num = input('{} >>>'.format('decimal')).strip().lstrip('0')\n",
    "    if num.isdecimal():\n",
    "        break\n",
    "    else:\n",
    "        print('you should input a decimal.')\n",
    "        \n",
    "#1\n",
    "print('the num %s length is %s' % (num, len(num)))"
   ]
  },
  {
   "cell_type": "code",
   "execution_count": 67,
   "metadata": {},
   "outputs": [
    {
     "name": "stdout",
     "output_type": "stream",
     "text": [
      "3 2 1 \n"
     ]
    }
   ],
   "source": [
    "#倒序打印\n",
    "for i in range(len(num),0,-1):\n",
    "    print(num[i-1], end=' ')\n",
    "print()"
   ]
  },
  {
   "cell_type": "code",
   "execution_count": 71,
   "metadata": {
    "scrolled": true
   },
   "outputs": [
    {
     "name": "stdout",
     "output_type": "stream",
     "text": [
      "3 2 1 \n"
     ]
    }
   ],
   "source": [
    "# 反转打印\n",
    "for i in reversed(num): #reversed(num) 返回一个新可迭代对象。\n",
    "    print(i, end=' ')\n",
    "print()"
   ]
  },
  {
   "cell_type": "code",
   "execution_count": 72,
   "metadata": {},
   "outputs": [
    {
     "name": "stdout",
     "output_type": "stream",
     "text": [
      "3 2 1 \n"
     ]
    }
   ],
   "source": [
    "# 负索引方式\n",
    "for i in range(len(num)):\n",
    "    print(num[-i-1], end=' ')\n",
    "print()"
   ]
  },
  {
   "cell_type": "code",
   "execution_count": 76,
   "metadata": {},
   "outputs": [
    {
     "name": "stdout",
     "output_type": "stream",
     "text": [
      "the count of 1 is 1\n",
      "the count of 2 is 1\n",
      "the count of 3 is 1\n"
     ]
    }
   ],
   "source": [
    "# 判断0-9的数字在字符串出现的次数，每一次迭代都是用count, 都是O(10 * n)问题\n",
    "counter = [0]*10\n",
    "for i in range(10): # 10*n\n",
    "    counter[i] = num.count(str(i))\n",
    "    if counter[i]:\n",
    "        print(\"the count of {} is {}\".format(i, counter[i]))"
   ]
  },
  {
   "cell_type": "code",
   "execution_count": 77,
   "metadata": {},
   "outputs": [
    {
     "name": "stdout",
     "output_type": "stream",
     "text": [
      "The count of 1 is 1\n",
      "The count of 2 is 1\n",
      "The count of 3 is 1\n"
     ]
    }
   ],
   "source": [
    "# 迭代字符串本身的字符\n",
    "counter = [0]*10\n",
    "for x in num:\n",
    "    i = int(x)\n",
    "    if counter[i] == 0:\n",
    "        counter[i] = num.count(x)\n",
    "        print(\"The count of {} is {}\".format(x, counter[i]))\n",
    "        "
   ]
  },
  {
   "cell_type": "markdown",
   "metadata": {},
   "source": [
    "1 1 1 1 1 \n",
    ">第一个1 count了，第二个不count.\n",
    " * 记录count过的\n",
    " * count过的，位置不是0"
   ]
  },
  {
   "cell_type": "code",
   "execution_count": 3,
   "metadata": {},
   "outputs": [
    {
     "name": "stdout",
     "output_type": "stream",
     "text": [
      ">>> 123123\n",
      "1 2\n",
      "2 2\n",
      "3 2\n",
      "['1', '2', '3']\n"
     ]
    }
   ],
   "source": [
    "num = 0\n",
    "num_list = []\n",
    "count = [0]*10\n",
    "\n",
    "while True:\n",
    "    num = input('>>> ').strip().lstrip('0')\n",
    "    if num.isdigit():\n",
    "        break\n",
    "    else:\n",
    "        print('error number.')\n",
    "        \n",
    "for i in num:\n",
    "    if i not in num_list:\n",
    "        count[int(i)] = num.count(str(i))\n",
    "        print(i, count[int(i)])\n",
    "        num_list.append(i)\n",
    "print(num_list)"
   ]
  },
  {
   "cell_type": "markdown",
   "metadata": {},
   "source": [
    "不使用count, 找到一个+1."
   ]
  },
  {
   "cell_type": "code",
   "execution_count": 8,
   "metadata": {},
   "outputs": [
    {
     "name": "stdout",
     "output_type": "stream",
     "text": [
      "The count of 1 is 2\n",
      "The count of 2 is 2\n",
      "The count of 3 is 2\n"
     ]
    }
   ],
   "source": [
    "\n",
    "counter = [0]*10\n",
    "for i in num: #一层循环，O(n)\n",
    "    i = int(i)\n",
    "    counter[i] += 1\n",
    "    \n",
    "for i in range(10):\n",
    "    if counter[i]:\n",
    "        print(\"The count of {} is {}\".format(i,counter[i]))"
   ]
  },
  {
   "cell_type": "markdown",
   "metadata": {},
   "source": [
    "## 输入5个数字，打印每个数字的位数，将三个数字排序打印，要求升序打印。"
   ]
  },
  {
   "cell_type": "code",
   "execution_count": 17,
   "metadata": {
    "scrolled": false
   },
   "outputs": [
    {
     "name": "stdout",
     "output_type": "stream",
     "text": [
      "0: 12\n",
      "The length of 12 is 2\n",
      "1: 22\n",
      "The length of 22 is 2\n",
      "2: 32\n",
      "The length of 32 is 2\n",
      "3: 32\n",
      "The length of 32 is 2\n",
      "4: 43\n",
      "The length of 43 is 2\n",
      "[12, 22, 32, 32, 43]\n"
     ]
    }
   ],
   "source": [
    "nums = []\n",
    "for i in range(5):\n",
    "    num = input('{}: '.format(i)).strip().lstrip('0')\n",
    "    if not num.isdigit():\n",
    "        continue\n",
    "    print('The length of {} is {}'.format(num, len(num)))\n",
    "    nums.append(int(num))\n",
    "    \n",
    "print(nums)\n",
    "\n"
   ]
  },
  {
   "cell_type": "code",
   "execution_count": 14,
   "metadata": {},
   "outputs": [
    {
     "name": "stdout",
     "output_type": "stream",
     "text": [
      "[12, 22, 23, 34, 42]\n"
     ]
    }
   ],
   "source": [
    "# sort方法排序\n",
    "lst = nums\n",
    "lst.sort() #就地修改\n",
    "print(nums) #lst和nums同时改变"
   ]
  },
  {
   "cell_type": "code",
   "execution_count": 16,
   "metadata": {},
   "outputs": [
    {
     "name": "stdout",
     "output_type": "stream",
     "text": [
      "[12, 22, 23, 34, 42]\n"
     ]
    }
   ],
   "source": [
    "# sort方法排序\n",
    "lst = nums.copy()\n",
    "lst.sort() #就地修改\n",
    "print(lst) #只有lst改变"
   ]
  },
  {
   "cell_type": "code",
   "execution_count": 18,
   "metadata": {},
   "outputs": [
    {
     "name": "stdout",
     "output_type": "stream",
     "text": [
      "[12, 22, 32, 32, 43]\n"
     ]
    }
   ],
   "source": [
    "# 冒泡法排序\n",
    "for i in range(len(nums)-1):\n",
    "    '''跑元素个数-1趟'''\n",
    "    flag = True\n",
    "    for j in range(len(nums)-i-1):\n",
    "        '''每趟到元素个数-趟数，-1避免超界'''\n",
    "        if nums[j] > nums[j+1]:\n",
    "            '''升序'''\n",
    "            _ = nums[j]\n",
    "            nums[j] = nums[j+1]\n",
    "            nums[j+1] = _\n",
    "            flag = False\n",
    "    if flag:\n",
    "        break\n",
    "print(nums)"
   ]
  },
  {
   "cell_type": "markdown",
   "metadata": {},
   "source": [
    ">一次性输入5个数字"
   ]
  },
  {
   "cell_type": "code",
   "execution_count": 65,
   "metadata": {},
   "outputs": [
    {
     "name": "stdout",
     "output_type": "stream",
     "text": [
      "input 5 numbers, seperated by commas\n",
      ">>> 1,4,3,2,5\n",
      "['1', '4', '3', '2', '5']\n"
     ]
    }
   ],
   "source": [
    "print('input 5 numbers, seperated by commas')\n",
    "s = input('>>> ')\n",
    "inputlist = s.split(',')\n",
    "\n",
    "if len(inputlist) == 5:\n",
    "    "
   ]
  }
 ],
 "metadata": {
  "kernelspec": {
   "display_name": "Python 3",
   "language": "python",
   "name": "python3"
  },
  "language_info": {
   "codemirror_mode": {
    "name": "ipython",
    "version": 3
   },
   "file_extension": ".py",
   "mimetype": "text/x-python",
   "name": "python",
   "nbconvert_exporter": "python",
   "pygments_lexer": "ipython3",
   "version": "3.6.5"
  }
 },
 "nbformat": 4,
 "nbformat_minor": 2
}
