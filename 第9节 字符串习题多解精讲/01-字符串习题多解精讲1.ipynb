{
 "cells": [
  {
   "cell_type": "markdown",
   "metadata": {},
   "source": [
    "# 素数并计算效率"
   ]
  },
  {
   "cell_type": "code",
   "execution_count": 2,
   "metadata": {},
   "outputs": [
    {
     "name": "stdout",
     "output_type": "stream",
     "text": [
      "[2, 3, 5, 7, 11, 13, 17, 19, 23, 29, 31, 37, 41, 43, 47, 53, 59, 61, 67, 71, 73, 79, 83, 89, 97]\n"
     ]
    }
   ],
   "source": [
    "n = 100\n",
    "pn = []\n",
    "for x in range(2,n):\n",
    "    for i in pn:\n",
    "        if x % i == 0:\n",
    "            break\n",
    "    else:\n",
    "        pn.append(x)\n",
    "        \n",
    "print(pn)"
   ]
  },
  {
   "cell_type": "code",
   "execution_count": 22,
   "metadata": {},
   "outputs": [
    {
     "name": "stdout",
     "output_type": "stream",
     "text": [
      "9592 个\n",
      "10.948627 秒\n",
      "运算次数 46314476\n"
     ]
    }
   ],
   "source": [
    "#效率\n",
    "import datetime\n",
    "n = 100000\n",
    "pn = []\n",
    "count = 0\n",
    "start = datetime.datetime.now()\n",
    "\n",
    "for x in range(2,n):\n",
    "    for i in pn:\n",
    "        count += 1\n",
    "        if x % i == 0:\n",
    "            break\n",
    "    else:\n",
    "        pn.append(x)\n",
    "        \n",
    "# print(pn) #pn不打印\n",
    "delta =  (datetime.datetime.now() -start).total_seconds() # 求差量时间,秒\n",
    "print('结果有',len(pn),'个')\n",
    "print(delta,'秒')\n",
    "print('运算次数',count)"
   ]
  },
  {
   "cell_type": "code",
   "execution_count": 20,
   "metadata": {},
   "outputs": [
    {
     "name": "stdout",
     "output_type": "stream",
     "text": [
      "9592 个\n",
      "0.504029 秒\n",
      "运算次数 755814\n"
     ]
    }
   ],
   "source": [
    "#效率\n",
    "import math\n",
    "import datetime\n",
    "n = 100000\n",
    "pn = []\n",
    "count = 0\n",
    "start = datetime.datetime.now()\n",
    "\n",
    "for x in range(2,n):\n",
    "    for i in pn:\n",
    "        count += 1\n",
    "        if x % i == 0: # not prime\n",
    "            break\n",
    "        if i > math.ceil(x**0.5): # is prime\n",
    "            pn.append(x)\n",
    "            break\n",
    "    else:\n",
    "        pn.append(x)\n",
    "        \n",
    "# print(pn) #pn不打印\n",
    "delta =  (datetime.datetime.now() -start).total_seconds() # 求差量时间,秒\n",
    "print('结果有',len(pn),'个')\n",
    "print(delta,'秒')\n",
    "print('运算次数',count)"
   ]
  },
  {
   "cell_type": "code",
   "execution_count": 23,
   "metadata": {},
   "outputs": [
    {
     "name": "stdout",
     "output_type": "stream",
     "text": [
      "结果有 9592 个\n",
      "0.509029 秒\n",
      "运算次数 755814\n"
     ]
    }
   ],
   "source": [
    "#效率\n",
    "import math\n",
    "import datetime\n",
    "n = 100000\n",
    "pn = []\n",
    "count = 0\n",
    "start = datetime.datetime.now()\n",
    "\n",
    "for x in range(2,n):\n",
    "    flag = True\n",
    "    for i in pn:\n",
    "        count += 1\n",
    "        if x % i == 0: # not prime\n",
    "            flag = False\n",
    "            break\n",
    "        if i > math.ceil(x**0.5): # is prime\n",
    "            flag = True\n",
    "            break\n",
    "    if flag:\n",
    "        pn.append(x)\n",
    "        \n",
    "# print(pn) #pn不打印\n",
    "delta =  (datetime.datetime.now() -start).total_seconds() # 求差量时间,秒       \n",
    "print('结果有',len(pn),'个')\n",
    "print(delta,'秒')\n",
    "print('运算次数',count)"
   ]
  },
  {
   "cell_type": "markdown",
   "metadata": {},
   "source": [
    "# 杨辉三角前6行\n",
    "* 开空间\n",
    "* 插入"
   ]
  },
  {
   "cell_type": "code",
   "execution_count": 31,
   "metadata": {},
   "outputs": [
    {
     "name": "stdout",
     "output_type": "stream",
     "text": [
      "[[1], [1, 1], [1, 1, 1]]\n"
     ]
    }
   ],
   "source": [
    "# 开空间\n",
    "triangle = []\n",
    "n = 3\n",
    "\n",
    "for i in range(n):\n",
    "    row = [1]*(i+1)\n",
    "    triangle.append(row)\n",
    "    if i == 0 or i == 1:\n",
    "        continue\n",
    "print(triangle)"
   ]
  }
 ],
 "metadata": {
  "kernelspec": {
   "display_name": "Python 3",
   "language": "python",
   "name": "python3"
  },
  "language_info": {
   "codemirror_mode": {
    "name": "ipython",
    "version": 3
   },
   "file_extension": ".py",
   "mimetype": "text/x-python",
   "name": "python",
   "nbconvert_exporter": "python",
   "pygments_lexer": "ipython3",
   "version": "3.6.5"
  }
 },
 "nbformat": 4,
 "nbformat_minor": 2
}
