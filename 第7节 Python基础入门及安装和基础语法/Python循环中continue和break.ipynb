{
 "cells": [
  {
   "cell_type": "markdown",
   "metadata": {},
   "source": [
    "### 计算1000以内的被7整除的前20个数(for循环)\n"
   ]
  },
  {
   "cell_type": "code",
   "execution_count": 6,
   "metadata": {},
   "outputs": [
    {
     "name": "stdout",
     "output_type": "stream",
     "text": [
      "0\n",
      "7\n",
      "14\n",
      "21\n",
      "28\n",
      "35\n",
      "42\n",
      "49\n",
      "56\n",
      "63\n",
      "70\n",
      "77\n",
      "84\n",
      "91\n",
      "98\n",
      "105\n",
      "112\n",
      "119\n",
      "126\n",
      "133\n"
     ]
    }
   ],
   "source": [
    "# for循环\n",
    "count = 0\n",
    "\n",
    "for i in range(0,1000,7):\n",
    "    print(i)\n",
    "    count += 1\n",
    "    if count == 20:\n",
    "        break"
   ]
  },
  {
   "cell_type": "code",
   "execution_count": 7,
   "metadata": {},
   "outputs": [
    {
     "name": "stdout",
     "output_type": "stream",
     "text": [
      "0\n",
      "7\n",
      "14\n",
      "21\n",
      "28\n",
      "35\n",
      "42\n",
      "49\n",
      "56\n",
      "63\n",
      "70\n",
      "77\n",
      "84\n",
      "91\n",
      "98\n",
      "105\n",
      "112\n",
      "119\n",
      "126\n",
      "133\n"
     ]
    }
   ],
   "source": [
    "# while 循环\n",
    "\n",
    "count = 0\n",
    "i = 0\n",
    "\n",
    "while True:\n",
    "    print(i)\n",
    "    count += 1\n",
    "    if count == 20:\n",
    "        break\n",
    "    i += 7"
   ]
  },
  {
   "cell_type": "markdown",
   "metadata": {},
   "source": [
    "### \t练习: 给定一个不超过5位的正整数, 判断有几位,依次打印出个位、十位、百位、千位、万位。"
   ]
  },
  {
   "cell_type": "code",
   "execution_count": 31,
   "metadata": {},
   "outputs": [
    {
     "name": "stdout",
     "output_type": "stream",
     "text": [
      ">>> 123\n",
      "3\n",
      "1\n",
      "2\n",
      "3\n"
     ]
    }
   ],
   "source": [
    "val = input('>>> ')\n",
    "val = int(val)\n",
    "\n",
    "if val >= 1000:\n",
    "    if val >= 10000:\n",
    "        n = 5\n",
    "    else:\n",
    "        n = 4\n",
    "else:\n",
    "    if val < 10:\n",
    "        n = 1\n",
    "    elif val < 100:\n",
    "        n = 2\n",
    "    else:\n",
    "        n = 3\n",
    "\n",
    "print(n)\n",
    "pre = 0\n",
    "for i in range(n,0,-1):\n",
    "    cur = val//10**(i-1)\n",
    "    print(cur - pre*10)\n",
    "    pre = cur\n"
   ]
  },
  {
   "cell_type": "code",
   "execution_count": 30,
   "metadata": {},
   "outputs": [
    {
     "name": "stdout",
     "output_type": "stream",
     "text": [
      ">>> 1232\n",
      "4\n",
      "2\n",
      "3\n",
      "2\n",
      "1\n"
     ]
    }
   ],
   "source": [
    "val = input('>>> ')\n",
    "val = int(val)\n",
    "\n",
    "if val >= 1000:\n",
    "    if val >= 10000:\n",
    "        n = 5\n",
    "    else:\n",
    "        n = 4\n",
    "else:\n",
    "    if val < 10:\n",
    "        n = 1\n",
    "    elif val < 100:\n",
    "        n = 2\n",
    "    else:\n",
    "        n = 3\n",
    "\n",
    "print(n)\n",
    "\n",
    "while True:\n",
    "    print(val % 10)\n",
    "    val = val // 10\n",
    "    if val == 0:\n",
    "        break"
   ]
  }
 ],
 "metadata": {
  "kernelspec": {
   "display_name": "Python 3",
   "language": "python",
   "name": "python3"
  },
  "language_info": {
   "codemirror_mode": {
    "name": "ipython",
    "version": 3
   },
   "file_extension": ".py",
   "mimetype": "text/x-python",
   "name": "python",
   "nbconvert_exporter": "python",
   "pygments_lexer": "ipython3",
   "version": "3.6.5"
  }
 },
 "nbformat": 4,
 "nbformat_minor": 2
}
