{
 "cells": [
  {
   "cell_type": "code",
   "execution_count": 8,
   "metadata": {},
   "outputs": [
    {
     "name": "stdout",
     "output_type": "stream",
     "text": [
      "welcome   python\n"
     ]
    }
   ],
   "source": [
    "print('welcome   python') "
   ]
  },
  {
   "cell_type": "markdown",
   "metadata": {},
   "source": [
    "# hello"
   ]
  },
  {
   "cell_type": "markdown",
   "metadata": {},
   "source": [
    "# Ctrl + Enter, Shift + Enter运行命令\n",
    "# 选中cell,使用m，即可输入markdown\n",
    "\n",
    "# 输入dd，删除cell\n",
    "\n",
    "# 选中cell，输入b,在其后新增cell\n",
    "# 可以运行javascript脚本"
   ]
  },
  {
   "cell_type": "code",
   "execution_count": 6,
   "metadata": {},
   "outputs": [
    {
     "data": {
      "application/javascript": [
       "alert('hello')"
      ],
      "text/plain": [
       "<IPython.core.display.Javascript object>"
      ]
     },
     "metadata": {},
     "output_type": "display_data"
    }
   ],
   "source": [
    "%%js\n",
    "alert('hello')"
   ]
  },
  {
   "cell_type": "markdown",
   "metadata": {},
   "source": [
    "# [ ] 中的数字运行第几次输出\n",
    "# [*] 正在运行当前cell中的代码中"
   ]
  },
  {
   "cell_type": "code",
   "execution_count": 10,
   "metadata": {},
   "outputs": [
    {
     "name": "stdout",
     "output_type": "stream",
     "text": [
      "abcefg\n",
      "abcefg\n"
     ]
    }
   ],
   "source": [
    "#注释, 字符串\n",
    "print('abc'+'efg') #print\n",
    "print('abc'+\"efg\") #print"
   ]
  },
  {
   "cell_type": "code",
   "execution_count": 12,
   "metadata": {},
   "outputs": [
    {
     "data": {
      "text/plain": [
       "'welcome \"to\" \\n123\\n\\n\\n\\n\\'python\\' '"
      ]
     },
     "execution_count": 12,
     "metadata": {},
     "output_type": "execute_result"
    }
   ],
   "source": [
    "# 三引号,其中嵌入' \"\"  多行或特殊字符\n",
    "\"\"\"welcome \"to\" \n",
    "1\\\n",
    "2\\\n",
    "3\\\n",
    "\n",
    "\n",
    "\n",
    "\n",
    "'python' \"\"\""
   ]
  },
  {
   "cell_type": "code",
   "execution_count": 15,
   "metadata": {},
   "outputs": [
    {
     "data": {
      "text/plain": [
       "'welcome \"to\" \\n123\\n\\n\\n\\n\\'python\\' '"
      ]
     },
     "execution_count": 15,
     "metadata": {},
     "output_type": "execute_result"
    }
   ],
   "source": [
    "#ipython特殊变量\n",
    "# _ 下划线，保存上个cell执行结果\n",
    "_\n"
   ]
  },
  {
   "cell_type": "code",
   "execution_count": 16,
   "metadata": {},
   "outputs": [
    {
     "name": "stdout",
     "output_type": "stream",
     "text": [
      "welcome \"to\" \n",
      "123\n",
      "\n",
      "\n",
      "\n",
      "'python' \n"
     ]
    }
   ],
   "source": [
    "#print语句遇到\\n会转义\n",
    "print(_)"
   ]
  },
  {
   "cell_type": "code",
   "execution_count": 17,
   "metadata": {},
   "outputs": [
    {
     "name": "stdout",
     "output_type": "stream",
     "text": [
      "welcome \\n magedu\n"
     ]
    }
   ],
   "source": [
    "#r字符串不转义\n",
    "print(r\"welcome \\n magedu\")"
   ]
  },
  {
   "cell_type": "code",
   "execution_count": 19,
   "metadata": {},
   "outputs": [],
   "source": [
    "#换行符：注意换行符后不能接任何字符，应该立即回车"
   ]
  },
  {
   "cell_type": "code",
   "execution_count": null,
   "metadata": {},
   "outputs": [],
   "source": []
  },
  {
   "cell_type": "markdown",
   "metadata": {},
   "source": [
    "# 运算符"
   ]
  },
  {
   "cell_type": "code",
   "execution_count": 20,
   "metadata": {},
   "outputs": [
    {
     "ename": "TypeError",
     "evalue": "unsupported operand type(s) for +: 'int' and 'str'",
     "output_type": "error",
     "traceback": [
      "\u001b[1;31m---------------------------------------------------------------------------\u001b[0m",
      "\u001b[1;31mTypeError\u001b[0m                                 Traceback (most recent call last)",
      "\u001b[1;32m<ipython-input-20-8b7b0efef2d4>\u001b[0m in \u001b[0;36m<module>\u001b[1;34m()\u001b[0m\n\u001b[0;32m      3\u001b[0m \u001b[1;31m# 弱：可以隐式转换。\u001b[0m\u001b[1;33m\u001b[0m\u001b[1;33m\u001b[0m\u001b[0m\n\u001b[0;32m      4\u001b[0m \u001b[1;33m\u001b[0m\u001b[0m\n\u001b[1;32m----> 5\u001b[1;33m \u001b[0mprint\u001b[0m\u001b[1;33m(\u001b[0m\u001b[1;36m1\u001b[0m\u001b[1;33m+\u001b[0m\u001b[1;34m'a'\u001b[0m\u001b[1;33m)\u001b[0m\u001b[1;33m\u001b[0m\u001b[0m\n\u001b[0m",
      "\u001b[1;31mTypeError\u001b[0m: unsupported operand type(s) for +: 'int' and 'str'"
     ]
    }
   ],
   "source": [
    "#强和弱类型区别，不同类型是否可以运算\n",
    "# 强：不能\n",
    "# 弱：可以隐式转换。\n",
    "\n",
    "print(1+'a')"
   ]
  },
  {
   "cell_type": "markdown",
   "metadata": {},
   "source": [
    "# 自动完成隐式转换不同类型为相同类型\n",
    "\n",
    "F12\n",
    "\n",
    "console.log(1+'a')\n",
    "\n",
    "1a\n",
    "\n"
   ]
  },
  {
   "cell_type": "markdown",
   "metadata": {},
   "source": [
    "静态编译： 申明类型，后面不可修改类型\n",
    "\n",
    "\n",
    "动态编译：不申明，定义即申明类型，可以修改类型"
   ]
  },
  {
   "cell_type": "code",
   "execution_count": 23,
   "metadata": {},
   "outputs": [
    {
     "data": {
      "text/plain": [
       "0.2"
      ]
     },
     "execution_count": 23,
     "metadata": {},
     "output_type": "execute_result"
    }
   ],
   "source": [
    "#自然除: 出来浮点型\n",
    "1/5"
   ]
  },
  {
   "cell_type": "code",
   "execution_count": 25,
   "metadata": {},
   "outputs": [
    {
     "data": {
      "text/plain": [
       "0"
      ]
     },
     "execution_count": 25,
     "metadata": {},
     "output_type": "execute_result"
    }
   ],
   "source": [
    "#整除：出来是整数\n",
    "1//5"
   ]
  },
  {
   "cell_type": "code",
   "execution_count": 26,
   "metadata": {},
   "outputs": [
    {
     "data": {
      "text/plain": [
       "2"
      ]
     },
     "execution_count": 26,
     "metadata": {},
     "output_type": "execute_result"
    }
   ],
   "source": [
    "#取模 %: 取余数\n",
    "5 % 3"
   ]
  },
  {
   "cell_type": "code",
   "execution_count": 27,
   "metadata": {},
   "outputs": [
    {
     "data": {
      "text/plain": [
       "8"
      ]
     },
     "execution_count": 27,
     "metadata": {},
     "output_type": "execute_result"
    }
   ],
   "source": [
    "# 次方\n",
    "2**3"
   ]
  },
  {
   "cell_type": "code",
   "execution_count": 28,
   "metadata": {},
   "outputs": [
    {
     "data": {
      "text/plain": [
       "1.4142135623730951"
      ]
     },
     "execution_count": 28,
     "metadata": {},
     "output_type": "execute_result"
    }
   ],
   "source": [
    "# 开平方\n",
    "2**0.5"
   ]
  },
  {
   "cell_type": "code",
   "execution_count": 29,
   "metadata": {},
   "outputs": [
    {
     "data": {
      "text/plain": [
       "1.4142135623730951"
      ]
     },
     "execution_count": 29,
     "metadata": {},
     "output_type": "execute_result"
    }
   ],
   "source": [
    "#开平方\n",
    "import math\n",
    "math.sqrt(2)"
   ]
  },
  {
   "cell_type": "code",
   "execution_count": 30,
   "metadata": {},
   "outputs": [
    {
     "data": {
      "text/plain": [
       "'0b1100'"
      ]
     },
     "execution_count": 30,
     "metadata": {},
     "output_type": "execute_result"
    }
   ],
   "source": [
    "#~12\n",
    "bin(12)"
   ]
  },
  {
   "cell_type": "code",
   "execution_count": 32,
   "metadata": {},
   "outputs": [
    {
     "data": {
      "text/plain": [
       "'-0b1'"
      ]
     },
     "execution_count": 32,
     "metadata": {},
     "output_type": "execute_result"
    }
   ],
   "source": [
    "#十进制转换二进制\n",
    "bin(-1)"
   ]
  },
  {
   "cell_type": "markdown",
   "metadata": {},
   "source": [
    "# python返回的是二进制原码转换为十进制数\n",
    "\n",
    "# 计算机内存中存储的是补码\n",
    "  * 正数补码是原码本身\n",
    "  * 负数补码是符号位不变，其余取反+1"
   ]
  },
  {
   "cell_type": "markdown",
   "metadata": {},
   "source": [
    "~12\n",
    "\n",
    "12原码 0000 1100\n",
    "\n",
    "取反  1111 0011\n",
    "\n",
    "求结果。存储的是补码，正数补码是本身。负数补码是符号位不变，其余取反+1。可以知道这是一个负数\n",
    "\n",
    "由1111 0011补码求负数，-1除符号位取反。\n",
    "\n",
    "1000 1101\n",
    "\n",
    "-13"
   ]
  },
  {
   "cell_type": "code",
   "execution_count": 35,
   "metadata": {},
   "outputs": [
    {
     "data": {
      "text/plain": [
       "False"
      ]
     },
     "execution_count": 35,
     "metadata": {},
     "output_type": "execute_result"
    }
   ],
   "source": [
    "#!=, ==可以实现不同类型比较, 比较时将两边统一类型。\n",
    "1 == '1'"
   ]
  },
  {
   "cell_type": "code",
   "execution_count": 36,
   "metadata": {},
   "outputs": [],
   "source": [
    "# 支持连等，但是不要用，引用时出大事。\n",
    "x = y = z = 10"
   ]
  },
  {
   "cell_type": "code",
   "execution_count": 38,
   "metadata": {},
   "outputs": [
    {
     "data": {
      "text/plain": [
       "10"
      ]
     },
     "execution_count": 38,
     "metadata": {},
     "output_type": "execute_result"
    }
   ],
   "source": [
    "y"
   ]
  },
  {
   "cell_type": "markdown",
   "metadata": {},
   "source": [
    "# 动态语言，赋值即申明类型，后重新赋值即修改类型。\n",
    "# 静态语言，先申明类型，后不能修改。"
   ]
  },
  {
   "cell_type": "code",
   "execution_count": 40,
   "metadata": {},
   "outputs": [],
   "source": [
    "#赋值表达式\n",
    "b = 6"
   ]
  },
  {
   "cell_type": "code",
   "execution_count": 41,
   "metadata": {},
   "outputs": [],
   "source": [
    "#引用计数机制：\n",
    "b = 6 #python一切是对象或实例，6对象引用1\n",
    "a = b #6引用2\n",
    "b = 5 #6引用1"
   ]
  },
  {
   "cell_type": "markdown",
   "metadata": {},
   "source": [
    "# 单分支结构"
   ]
  },
  {
   "cell_type": "code",
   "execution_count": 42,
   "metadata": {},
   "outputs": [
    {
     "name": "stdout",
     "output_type": "stream",
     "text": [
      "1 less than 2\n"
     ]
    }
   ],
   "source": [
    "if 1 < 2:\n",
    "    print('1 less than 2')"
   ]
  },
  {
   "cell_type": "code",
   "execution_count": 43,
   "metadata": {},
   "outputs": [],
   "source": [
    "if 1 > 2:\n",
    "    print('1 less than 2')"
   ]
  },
  {
   "cell_type": "code",
   "execution_count": 44,
   "metadata": {},
   "outputs": [
    {
     "data": {
      "text/plain": [
       "False"
      ]
     },
     "execution_count": 44,
     "metadata": {},
     "output_type": "execute_result"
    }
   ],
   "source": [
    "1 > 2"
   ]
  },
  {
   "cell_type": "code",
   "execution_count": 51,
   "metadata": {},
   "outputs": [
    {
     "data": {
      "text/plain": [
       "True"
      ]
     },
     "execution_count": 51,
     "metadata": {},
     "output_type": "execute_result"
    }
   ],
   "source": [
    "bool(-1)"
   ]
  },
  {
   "cell_type": "markdown",
   "metadata": {},
   "source": [
    "# 真值表"
   ]
  },
  {
   "cell_type": "code",
   "execution_count": 46,
   "metadata": {},
   "outputs": [],
   "source": [
    "a = None"
   ]
  },
  {
   "cell_type": "code",
   "execution_count": null,
   "metadata": {},
   "outputs": [],
   "source": []
  },
  {
   "cell_type": "markdown",
   "metadata": {},
   "source": [
    "# 多分支"
   ]
  },
  {
   "cell_type": "code",
   "execution_count": 54,
   "metadata": {},
   "outputs": [
    {
     "name": "stdout",
     "output_type": "stream",
     "text": [
      "zero\n"
     ]
    }
   ],
   "source": [
    "a = 0\n",
    "\n",
    "if a < 0:\n",
    "    print('negative')\n",
    "elif a == 0:\n",
    "    print('zero')\n",
    "else:\n",
    "    print('positive')"
   ]
  },
  {
   "cell_type": "markdown",
   "metadata": {},
   "source": [
    "# 分支嵌套"
   ]
  },
  {
   "cell_type": "code",
   "execution_count": 55,
   "metadata": {},
   "outputs": [
    {
     "name": "stdout",
     "output_type": "stream",
     "text": [
      "right\n"
     ]
    }
   ],
   "source": [
    "score = 80\n",
    "\n",
    "if score < 0:\n",
    "    print('wrong')\n",
    "else:\n",
    "    if score == 0:\n",
    "        print('egg')\n",
    "    elif score <= 100:\n",
    "        print('right')\n",
    "    else:\n",
    "        print('too big')"
   ]
  },
  {
   "cell_type": "code",
   "execution_count": 59,
   "metadata": {},
   "outputs": [
    {
     "name": "stdout",
     "output_type": "stream",
     "text": [
      "right\n"
     ]
    }
   ],
   "source": [
    "score = 80\n",
    "\n",
    "if score > 0:\n",
    "    if score < 100:\n",
    "        print('right')\n",
    "    else:\n",
    "        print('too big')\n",
    "elif score == 0:\n",
    "    print('egg')\n",
    "else:\n",
    "    print('wrong')"
   ]
  },
  {
   "cell_type": "code",
   "execution_count": 65,
   "metadata": {},
   "outputs": [
    {
     "name": "stdout",
     "output_type": "stream",
     "text": [
      "right\n"
     ]
    }
   ],
   "source": [
    "score = 80 \n",
    "\n",
    "if score > 100:\n",
    "    print('too big')\n",
    "elif score == 0:\n",
    "    print('zero')\n",
    "elif score < 0:\n",
    "    print('wrong')\n",
    "else:\n",
    "    print('right')"
   ]
  },
  {
   "cell_type": "code",
   "execution_count": null,
   "metadata": {},
   "outputs": [],
   "source": []
  },
  {
   "cell_type": "code",
   "execution_count": 70,
   "metadata": {},
   "outputs": [
    {
     "name": "stdout",
     "output_type": "stream",
     "text": [
      "1234\n"
     ]
    }
   ],
   "source": [
    "num = input()"
   ]
  },
  {
   "cell_type": "code",
   "execution_count": 71,
   "metadata": {},
   "outputs": [
    {
     "data": {
      "text/plain": [
       "'1234'"
      ]
     },
     "execution_count": 71,
     "metadata": {},
     "output_type": "execute_result"
    }
   ],
   "source": [
    "num"
   ]
  },
  {
   "cell_type": "code",
   "execution_count": 73,
   "metadata": {},
   "outputs": [],
   "source": [
    "num = 1234"
   ]
  },
  {
   "cell_type": "code",
   "execution_count": 74,
   "metadata": {},
   "outputs": [
    {
     "data": {
      "text/plain": [
       "1234"
      ]
     },
     "execution_count": 74,
     "metadata": {},
     "output_type": "execute_result"
    }
   ],
   "source": [
    "num"
   ]
  },
  {
   "cell_type": "code",
   "execution_count": null,
   "metadata": {},
   "outputs": [],
   "source": []
  },
  {
   "cell_type": "markdown",
   "metadata": {},
   "source": [
    "# 给定一个不超过5位的正整数，判断其有几位。例如123\n",
    "\n",
    "考的是折半思想\n",
    "\n",
    "if嵌套，可实现折半。if拉平，没有效率。"
   ]
  },
  {
   "cell_type": "code",
   "execution_count": 108,
   "metadata": {},
   "outputs": [
    {
     "name": "stdout",
     "output_type": "stream",
     "text": [
      "Enter a number less than 5 digits: 1234\n",
      "1234 4\n"
     ]
    }
   ],
   "source": [
    "num = input('Enter a number less than 5 digits: ')\n",
    "# print(type(num))\n",
    "num = int(num)\n",
    "\n",
    "if num / (10**1) < 1:\n",
    "    print(num, '1')\n",
    "elif num / (10**2) < 1:\n",
    "    print(num, '2')  \n",
    "elif num / (10**3) < 1:\n",
    "    print(num, '3')\n",
    "elif num / (10**4) < 1:\n",
    "    print(num, '4')\n",
    "else:\n",
    "    print('over 5 digits')"
   ]
  },
  {
   "cell_type": "code",
   "execution_count": 107,
   "metadata": {},
   "outputs": [
    {
     "name": "stdout",
     "output_type": "stream",
     "text": [
      "Enter a number less than 5 digits: -1\n",
      "<class 'str'>\n",
      "wrong\n"
     ]
    }
   ],
   "source": [
    "num = input('Enter a number less than 5 digits: ')\n",
    "# print(type(num))\n",
    "num = int(num)\n",
    "\n",
    "if num < 0:\n",
    "    print('wrong')\n",
    "elif num < 10:\n",
    "    print(1)\n",
    "elif num < 100: \n",
    "    print(2)\n",
    "elif num < 1000:\n",
    "    print(3)\n",
    "elif num < 10000:\n",
    "    print(4)\n",
    "else:\n",
    "    print('over 5 digits')"
   ]
  },
  {
   "cell_type": "markdown",
   "metadata": {},
   "source": [
    "# 折半\n",
    "计算浪费cpu时间"
   ]
  },
  {
   "cell_type": "code",
   "execution_count": 13,
   "metadata": {},
   "outputs": [
    {
     "name": "stdout",
     "output_type": "stream",
     "text": [
      "12345\n",
      "5\n"
     ]
    }
   ],
   "source": [
    "num = int(input())\n",
    "data = num/100\n",
    "\n",
    "if data >= 1:\n",
    "    if data < 10:\n",
    "        print(3)\n",
    "    elif data < 100:\n",
    "        print(4)\n",
    "    elif data < 1000:\n",
    "        print(5)\n",
    "    else:\n",
    "        print('over 5')\n",
    "else:\n",
    "    data = num/10\n",
    "    if data >= 1:\n",
    "        print(2)\n",
    "    elif data >= 0:\n",
    "        print(1)\n",
    "    else:\n",
    "        print('less than 0')"
   ]
  },
  {
   "cell_type": "markdown",
   "metadata": {},
   "source": [
    "# 老师，折半"
   ]
  },
  {
   "cell_type": "code",
   "execution_count": 16,
   "metadata": {},
   "outputs": [
    {
     "name": "stdout",
     "output_type": "stream",
     "text": [
      ">>> 111\n",
      "3\n"
     ]
    }
   ],
   "source": [
    "val = input('>>> ')\n",
    "val = int(val)\n",
    "\n",
    "if val >= 1000: #fold\n",
    "    if val >= 10000:\n",
    "        print(5)\n",
    "    else:\n",
    "        print(4)\n",
    "else:\n",
    "    if val >= 100:\n",
    "        print(3)\n",
    "    elif val >= 10:\n",
    "        print(2)\n",
    "    else:\n",
    "        print(1)"
   ]
  }
 ],
 "metadata": {
  "kernelspec": {
   "display_name": "Python 3",
   "language": "python",
   "name": "python3"
  },
  "language_info": {
   "codemirror_mode": {
    "name": "ipython",
    "version": 3
   },
   "file_extension": ".py",
   "mimetype": "text/x-python",
   "name": "python",
   "nbconvert_exporter": "python",
   "pygments_lexer": "ipython3",
   "version": "3.6.5"
  }
 },
 "nbformat": 4,
 "nbformat_minor": 2
}
