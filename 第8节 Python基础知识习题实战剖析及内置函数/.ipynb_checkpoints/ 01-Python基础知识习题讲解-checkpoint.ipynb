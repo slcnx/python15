{
 "cells": [
  {
   "cell_type": "markdown",
   "metadata": {},
   "source": [
    "# 输入两个数，比较大小后，从小到大升序排序"
   ]
  },
  {
   "cell_type": "code",
   "execution_count": 10,
   "metadata": {
    "scrolled": true
   },
   "outputs": [
    {
     "name": "stdout",
     "output_type": "stream",
     "text": [
      "#需要考虑 == a = int(input()) b = int(input())\n"
     ]
    },
    {
     "ename": "ValueError",
     "evalue": "invalid literal for int() with base 10: '#需要考虑 == a = int(input()) b = int(input())'",
     "output_type": "error",
     "traceback": [
      "\u001b[1;31m---------------------------------------------------------------------------\u001b[0m",
      "\u001b[1;31mValueError\u001b[0m                                Traceback (most recent call last)",
      "\u001b[1;32m<ipython-input-10-4952f875bbd3>\u001b[0m in \u001b[0;36m<module>\u001b[1;34m()\u001b[0m\n\u001b[0;32m      1\u001b[0m \u001b[1;31m#需要考虑 ==\u001b[0m\u001b[1;33m\u001b[0m\u001b[1;33m\u001b[0m\u001b[0m\n\u001b[1;32m----> 2\u001b[1;33m \u001b[0ma\u001b[0m \u001b[1;33m=\u001b[0m \u001b[0mint\u001b[0m\u001b[1;33m(\u001b[0m\u001b[0minput\u001b[0m\u001b[1;33m(\u001b[0m\u001b[1;33m)\u001b[0m\u001b[1;33m)\u001b[0m\u001b[1;33m\u001b[0m\u001b[0m\n\u001b[0m\u001b[0;32m      3\u001b[0m \u001b[0mb\u001b[0m \u001b[1;33m=\u001b[0m \u001b[0mint\u001b[0m\u001b[1;33m(\u001b[0m\u001b[0minput\u001b[0m\u001b[1;33m(\u001b[0m\u001b[1;33m)\u001b[0m\u001b[1;33m)\u001b[0m\u001b[1;33m\u001b[0m\u001b[0m\n\u001b[0;32m      4\u001b[0m \u001b[1;33m\u001b[0m\u001b[0m\n\u001b[0;32m      5\u001b[0m \u001b[1;32mif\u001b[0m \u001b[0ma\u001b[0m \u001b[1;33m>\u001b[0m \u001b[0mb\u001b[0m\u001b[1;33m:\u001b[0m\u001b[1;33m\u001b[0m\u001b[0m\n",
      "\u001b[1;31mValueError\u001b[0m: invalid literal for int() with base 10: '#需要考虑 == a = int(input()) b = int(input())'"
     ]
    }
   ],
   "source": [
    "#需要考虑 ==\n",
    "a = int(input())\n",
    "b = int(input())\n",
    "\n",
    "if a > b:\n",
    "    print(b)\n",
    "    print(a)\n",
    "else:\n",
    "    print(a)\n",
    "    print(b)"
   ]
  },
  {
   "cell_type": "code",
   "execution_count": 11,
   "metadata": {},
   "outputs": [
    {
     "name": "stdout",
     "output_type": "stream",
     "text": [
      "1\n",
      "2\n",
      "1 2\n"
     ]
    }
   ],
   "source": [
    "#需要考虑 ==\n",
    "a = int(input())\n",
    "b = int(input())\n",
    "\n",
    "print(b,a) if a > b else print(a,b)"
   ]
  },
  {
   "cell_type": "code",
   "execution_count": 5,
   "metadata": {},
   "outputs": [
    {
     "name": "stdout",
     "output_type": "stream",
     "text": [
      "Help on built-in function print in module builtins:\n",
      "\n",
      "print(...)\n",
      "    print(value, ..., sep=' ', end='\\n', file=sys.stdout, flush=False)\n",
      "    \n",
      "    Prints the values to a stream, or to sys.stdout by default.\n",
      "    Optional keyword arguments:\n",
      "    file:  a file-like object (stream); defaults to the current sys.stdout.\n",
      "    sep:   string inserted between values, default a space.\n",
      "    end:   string appended after the last value, default a newline.\n",
      "    flush: whether to forcibly flush the stream.\n",
      "\n"
     ]
    }
   ],
   "source": [
    "help(print)"
   ]
  },
  {
   "cell_type": "markdown",
   "metadata": {},
   "source": [
    "# if else 实现3个数比较排序。6个情况"
   ]
  },
  {
   "cell_type": "code",
   "execution_count": null,
   "metadata": {},
   "outputs": [],
   "source": []
  },
  {
   "cell_type": "markdown",
   "metadata": {},
   "source": [
    "# 给一个半径，求圆的面积和周长。圆周率3.14\n",
    "面积: S=πr²或S=π*（d/2)²\n",
    "\n",
    "周长：L=2×π×r"
   ]
  },
  {
   "cell_type": "code",
   "execution_count": 12,
   "metadata": {},
   "outputs": [
    {
     "name": "stdout",
     "output_type": "stream",
     "text": [
      "input circle radius: 1\n",
      "Circle Area: 3.14\n",
      "Circumference length: 6.28\n"
     ]
    }
   ],
   "source": [
    "r = int(input('input circle radius: '))\n",
    "d = 2*r\n",
    "S = 3.14*(d/2)**2\n",
    "L = 2*3.14*r\n",
    "\n",
    "print('Circle Area: {}'.format(S), 'Circumference length: {L}'.format(L=L), sep='\\n')"
   ]
  },
  {
   "cell_type": "code",
   "execution_count": 13,
   "metadata": {},
   "outputs": [
    {
     "name": "stdout",
     "output_type": "stream",
     "text": [
      "r=1\n",
      "area=3.14\n",
      "circumference=6.28\n"
     ]
    }
   ],
   "source": [
    "r = int(input('r='))\n",
    "print('area='+str(3.14*r**2))\n",
    "print('circumference='+str(2*3.14*r))"
   ]
  },
  {
   "cell_type": "markdown",
   "metadata": {},
   "source": [
    "# 输入n个数, 求每次输入后算数平均数\n",
    "\n",
    "设一组数据为X1，X2，...，Xn，简单的算术平均数的计算公式为：\n",
    "\n",
    "### (X1 + X2 + ...Xn) / n"
   ]
  },
  {
   "cell_type": "code",
   "execution_count": 15,
   "metadata": {},
   "outputs": [
    {
     "name": "stdout",
     "output_type": "stream",
     "text": [
      "input a number, input exit to quit: 1\n",
      "1.0\n",
      "input a number, input exit to quit: 2\n",
      "1.5\n",
      "input a number, input exit to quit: 3\n",
      "2.0\n",
      "input a number, input exit to quit: 4\n",
      "2.5\n",
      "input a number, input exit to quit: 5\n",
      "3.0\n",
      "input a number, input exit to quit: exit\n"
     ]
    }
   ],
   "source": [
    "#死循环中添加退出条件\n",
    "count = 1\n",
    "sum = 0\n",
    "while 1:\n",
    "    number = input('input a number, input exit to quit: ')\n",
    "    if number == \"exit\":\n",
    "        break\n",
    "    sum += int(number)\n",
    "    avg = sum / count\n",
    "    print(avg)\n",
    "    count += 1\n",
    "    \n",
    "    \n",
    "    "
   ]
  },
  {
   "cell_type": "markdown",
   "metadata": {},
   "source": [
    "# 九九乘法表\n",
    "* 1 X 1 = 1\t\n",
    "* 1 X 2 = 2\t2 X 2 = 4\t\n",
    "* 1 X 3 = 3\t2 X 3 = 6\t3 X 3 = 9\t\n",
    "* 1 X 4 = 4\t2 X 4 = 8\t3 X 4 = 12\t4 X 4 = 16\t\n",
    "* 1 X 5 = 5\t2 X 5 = 10\t3 X 5 = 15\t4 X 5 = 20\t5 X 5 = 25\t\n",
    "* 1 X 6 = 6\t2 X 6 = 12\t3 X 6 = 18\t4 X 6 = 24\t5 X 6 = 30\t6 X 6 = 36\t\n",
    "* 1 X 7 = 7\t2 X 7 = 14\t3 X 7 = 21\t4 X 7 = 28\t5 X 7 = 35\t6 X 7 = 42\t7 X 7 = 49\t\n",
    "* 1 X 8 = 8\t2 X 8 = 16\t3 X 8 = 24\t4 X 8 = 32\t5 X 8 = 40\t6 X 8 = 48\t7 X 8 = 56\t8 X 8 = 64\t\n",
    "* 1 X 9 = 9\t2 X 9 = 18\t3 X 9 = 27\t4 X 9 = 36\t5 X 9 = 45\t6 X 9 = 54\t7 X 9 = 63\t8 X 9 = 72\t9 X 9 = 81"
   ]
  },
  {
   "cell_type": "code",
   "execution_count": 23,
   "metadata": {},
   "outputs": [
    {
     "name": "stdout",
     "output_type": "stream",
     "text": [
      "1X1=1 2X1=2 3X1=3 4X1=4 5X1=5 6X1=6 7X1=7 8X1=8 9X1=9 \n",
      "1X2=2 2X2=4 3X2=6 4X2=8 5X2=10 6X2=12 7X2=14 8X2=16 9X2=18 \n",
      "1X3=3 2X3=6 3X3=9 4X3=12 5X3=15 6X3=18 7X3=21 8X3=24 9X3=27 \n",
      "1X4=4 2X4=8 3X4=12 4X4=16 5X4=20 6X4=24 7X4=28 8X4=32 9X4=36 \n",
      "1X5=5 2X5=10 3X5=15 4X5=20 5X5=25 6X5=30 7X5=35 8X5=40 9X5=45 \n",
      "1X6=6 2X6=12 3X6=18 4X6=24 5X6=30 6X6=36 7X6=42 8X6=48 9X6=54 \n",
      "1X7=7 2X7=14 3X7=21 4X7=28 5X7=35 6X7=42 7X7=49 8X7=56 9X7=63 \n",
      "1X8=8 2X8=16 3X8=24 4X8=32 5X8=40 6X8=48 7X8=56 8X8=64 9X8=72 \n",
      "1X9=9 2X9=18 3X9=27 4X9=36 5X9=45 6X9=54 7X9=63 8X9=72 9X9=81 \n"
     ]
    }
   ],
   "source": [
    "#拼出方阵\n",
    "for i in range(1,10):\n",
    "    for j in range(1,10):\n",
    "        print(str(j)+'X'+str(i)+'='+str(i*j),end=' ')\n",
    "    print()"
   ]
  },
  {
   "cell_type": "markdown",
   "metadata": {},
   "source": [
    "### 方阵有一半不想要, 找出边界"
   ]
  },
  {
   "cell_type": "code",
   "execution_count": 24,
   "metadata": {
    "scrolled": true
   },
   "outputs": [
    {
     "name": "stdout",
     "output_type": "stream",
     "text": [
      "1X1=1 \n",
      "1X2=2 2X2=4 \n",
      "1X3=3 2X3=6 3X3=9 \n",
      "1X4=4 2X4=8 3X4=12 4X4=16 \n",
      "1X5=5 2X5=10 3X5=15 4X5=20 5X5=25 \n",
      "1X6=6 2X6=12 3X6=18 4X6=24 5X6=30 6X6=36 \n",
      "1X7=7 2X7=14 3X7=21 4X7=28 5X7=35 6X7=42 7X7=49 \n",
      "1X8=8 2X8=16 3X8=24 4X8=32 5X8=40 6X8=48 7X8=56 8X8=64 \n",
      "1X9=9 2X9=18 3X9=27 4X9=36 5X9=45 6X9=54 7X9=63 8X9=72 9X9=81 \n"
     ]
    }
   ],
   "source": [
    "# j>i时不要。j=i要\n",
    "for i in range(1,10):\n",
    "    for j in range(1,i+1):\n",
    "        print(str(j)+'X'+str(i)+'='+str(i*j),end=' ')\n",
    "    print()"
   ]
  },
  {
   "cell_type": "markdown",
   "metadata": {},
   "source": [
    "### 对齐9 9 乘法表"
   ]
  },
  {
   "cell_type": "code",
   "execution_count": 38,
   "metadata": {},
   "outputs": [
    {
     "name": "stdout",
     "output_type": "stream",
     "text": [
      "1X1=1 \n",
      "1X2=2 2X2=4  \n",
      "1X3=3 2X3=6  3X3=9  \n",
      "1X4=4 2X4=8  3X4=12 4X4=16 \n",
      "1X5=5 2X5=10 3X5=15 4X5=20 5X5=25 \n",
      "1X6=6 2X6=12 3X6=18 4X6=24 5X6=30 6X6=36 \n",
      "1X7=7 2X7=14 3X7=21 4X7=28 5X7=35 6X7=42 7X7=49 \n",
      "1X8=8 2X8=16 3X8=24 4X8=32 5X8=40 6X8=48 7X8=56 8X8=64 \n",
      "1X9=9 2X9=18 3X9=27 4X9=36 5X9=45 6X9=54 7X9=63 8X9=72 9X9=81 \n"
     ]
    }
   ],
   "source": [
    "# 有个位数导致\n",
    "# 将得数补加空格\n",
    "#\n",
    "for i in range(1,10):\n",
    "    for j in range(1,i+1):\n",
    "        product = j*i\n",
    "        if j > 1 and product < 10:\n",
    "            product = str(product) + ' '\n",
    "        print(str(j)+'X'+str(i)+'='+str(product),end=' ')\n",
    "    print()"
   ]
  },
  {
   "cell_type": "code",
   "execution_count": 25,
   "metadata": {},
   "outputs": [
    {
     "name": "stdout",
     "output_type": "stream",
     "text": [
      "1X1=1\t\n",
      "1X2=2\t2X2=4\t\n",
      "1X3=3\t2X3=6\t3X3=9\t\n",
      "1X4=4\t2X4=8\t3X4=12\t4X4=16\t\n",
      "1X5=5\t2X5=10\t3X5=15\t4X5=20\t5X5=25\t\n",
      "1X6=6\t2X6=12\t3X6=18\t4X6=24\t5X6=30\t6X6=36\t\n",
      "1X7=7\t2X7=14\t3X7=21\t4X7=28\t5X7=35\t6X7=42\t7X7=49\t\n",
      "1X8=8\t2X8=16\t3X8=24\t4X8=32\t5X8=40\t6X8=48\t7X8=56\t8X8=64\t\n",
      "1X9=9\t2X9=18\t3X9=27\t4X9=36\t5X9=45\t6X9=54\t7X9=63\t8X9=72\t9X9=81\t\n"
     ]
    }
   ],
   "source": [
    "# TAB对齐\n",
    "for i in range(1,10):\n",
    "    for j in range(1,i+1):\n",
    "        print(str(j)+'X'+str(i)+'='+str(i*j),end='\\t')\n",
    "    print()"
   ]
  },
  {
   "cell_type": "code",
   "execution_count": 34,
   "metadata": {},
   "outputs": [
    {
     "name": "stdout",
     "output_type": "stream",
     "text": [
      "1 X 1 = 1  \n",
      "1 X 2 = 2  2 X 2 = 4  \n",
      "1 X 3 = 3  2 X 3 = 6  3 X 3 = 9  \n",
      "1 X 4 = 4  2 X 4 = 8  3 X 4 = 12 4 X 4 = 16 \n",
      "1 X 5 = 5  2 X 5 = 10 3 X 5 = 15 4 X 5 = 20 5 X 5 = 25 \n",
      "1 X 6 = 6  2 X 6 = 12 3 X 6 = 18 4 X 6 = 24 5 X 6 = 30 6 X 6 = 36 \n",
      "1 X 7 = 7  2 X 7 = 14 3 X 7 = 21 4 X 7 = 28 5 X 7 = 35 6 X 7 = 42 7 X 7 = 49 \n",
      "1 X 8 = 8  2 X 8 = 16 3 X 8 = 24 4 X 8 = 32 5 X 8 = 40 6 X 8 = 48 7 X 8 = 56 8 X 8 = 64 \n",
      "1 X 9 = 9  2 X 9 = 18 3 X 9 = 27 4 X 9 = 36 5 X 9 = 45 6 X 9 = 54 7 X 9 = 63 8 X 9 = 72 9 X 9 = 81 \n"
     ]
    }
   ],
   "source": [
    "# 左对齐\n",
    "# {}中以冒号分隔，后面是要求\n",
    "# < 左对齐，> 右对齐\n",
    "# 2：打印字符宽度。\n",
    "\n",
    "for i in range(1,10):\n",
    "    for j in range(1,i+1):\n",
    "        print(\"{} X {} = {:<2}\".format(j, i, j*i),end=' ')\n",
    "    print()"
   ]
  },
  {
   "cell_type": "code",
   "execution_count": 54,
   "metadata": {
    "scrolled": false
   },
   "outputs": [
    {
     "name": "stdout",
     "output_type": "stream",
     "text": [
      "1 X 1 = 1  \n",
      "1 X 2 = 2  2 X 2 = 4  \n",
      "1 X 3 = 3  2 X 3 = 6  3 X 3 = 9  \n",
      "1 X 4 = 4  2 X 4 = 8  3 X 4 = 12 4 X 4 = 16 \n",
      "1 X 5 = 5  2 X 5 = 10 3 X 5 = 15 4 X 5 = 20 5 X 5 = 25 \n",
      "1 X 6 = 6  2 X 6 = 12 3 X 6 = 18 4 X 6 = 24 5 X 6 = 30 6 X 6 = 36 \n",
      "1 X 7 = 7  2 X 7 = 14 3 X 7 = 21 4 X 7 = 28 5 X 7 = 35 6 X 7 = 42 7 X 7 = 49 \n",
      "1 X 8 = 8  2 X 8 = 16 3 X 8 = 24 4 X 8 = 32 5 X 8 = 40 6 X 8 = 48 7 X 8 = 56 8 X 8 = 64 \n",
      "1 X 9 = 9  2 X 9 = 18 3 X 9 = 27 4 X 9 = 36 5 X 9 = 45 6 X 9 = 54 7 X 9 = 63 8 X 9 = 72 9 X 9 = 81 \n"
     ]
    }
   ],
   "source": [
    "# 拼列的循环\n",
    "for i in range(1,10):\n",
    "    line = ''\n",
    "    for j in range(1,i+1):\n",
    "        line += \"{0} X {1} = {2:<2} \".format(j, i, j*i)\n",
    "    print(line)"
   ]
  },
  {
   "cell_type": "markdown",
   "metadata": {},
   "source": [
    "# 扩展题\n",
    "\n",
    "* 1 X 1 = 1  2 X 1 = 2  3 X 1 = 3  4 X 1 = 4  5 X 1 = 5  6 X 1 = 6  7 X 1 = 7  8 X 1 = 8  9 X 1 = 9  \n",
    "*        2 X 2 = 4  3 X 2 = 6  4 X 2 = 8  5 X 2 = 10 6 X 2 = 12 7 X 2 = 14 8 X 2 = 16 9 X 2 = 18 \n",
    "*               3 X 3 = 9  4 X 3 = 12 5 X 3 = 15 6 X 3 = 18 7 X 3 = 21 8 X 3 = 24 9 X 3 = 27 \n",
    "*                       4 X 4 = 16 5 X 4 = 20 6 X 4 = 24 7 X 4 = 28 8 X 4 = 32 9 X 4 = 36 \n",
    "*                                5 X 5 = 25 6 X 5 = 30 7 X 5 = 35 8 X 5 = 40 9 X 5 = 45 \n",
    "*                                        6 X 6 = 36 7 X 6 = 42 8 X 6 = 48 9 X 6 = 54 \n",
    "*                                                7 X 7 = 49 8 X 7 = 56 9 X 7 = 63 \n",
    "*                                                        8 X 8 = 64 9 X 8 = 72 \n",
    "*                                                                9 X 9 = 81 "
   ]
  },
  {
   "cell_type": "code",
   "execution_count": 75,
   "metadata": {},
   "outputs": [
    {
     "name": "stdout",
     "output_type": "stream",
     "text": [
      "1 X 1 = 1  2 X 1 = 2  3 X 1 = 3  4 X 1 = 4  5 X 1 = 5  6 X 1 = 6  7 X 1 = 7  8 X 1 = 8  9 X 1 = 9  \n",
      "           2 X 2 = 4  3 X 2 = 6  4 X 2 = 8  5 X 2 = 10 6 X 2 = 12 7 X 2 = 14 8 X 2 = 16 9 X 2 = 18 \n",
      "                      3 X 3 = 9  4 X 3 = 12 5 X 3 = 15 6 X 3 = 18 7 X 3 = 21 8 X 3 = 24 9 X 3 = 27 \n",
      "                                 4 X 4 = 16 5 X 4 = 20 6 X 4 = 24 7 X 4 = 28 8 X 4 = 32 9 X 4 = 36 \n",
      "                                            5 X 5 = 25 6 X 5 = 30 7 X 5 = 35 8 X 5 = 40 9 X 5 = 45 \n",
      "                                                       6 X 6 = 36 7 X 6 = 42 8 X 6 = 48 9 X 6 = 54 \n",
      "                                                                  7 X 7 = 49 8 X 7 = 56 9 X 7 = 63 \n",
      "                                                                             8 X 8 = 64 9 X 8 = 72 \n",
      "                                                                                        9 X 9 = 81 \n"
     ]
    }
   ],
   "source": [
    "for i in range(1,10):\n",
    "    for j in range(1,10):\n",
    "        if j<i:\n",
    "            print(\"{}   {}   {:<2}\".format(' ',' ',' '),end=' ')\n",
    "        else:\n",
    "            print(\"{} X {} = {:<2}\".format(j,i,j*i),end=' ')\n",
    "    print()"
   ]
  },
  {
   "cell_type": "code",
   "execution_count": 79,
   "metadata": {},
   "outputs": [
    {
     "name": "stdout",
     "output_type": "stream",
     "text": [
      "1 X 1 = 1  2 X 1 = 2  3 X 1 = 3  4 X 1 = 4  5 X 1 = 5  6 X 1 = 6  7 X 1 = 7  8 X 1 = 8  9 X 1 = 9  \n",
      "           2 X 2 = 4  3 X 2 = 6  4 X 2 = 8  5 X 2 = 10 6 X 2 = 12 7 X 2 = 14 8 X 2 = 16 9 X 2 = 18 \n",
      "                      3 X 3 = 9  4 X 3 = 12 5 X 3 = 15 6 X 3 = 18 7 X 3 = 21 8 X 3 = 24 9 X 3 = 27 \n",
      "                                 4 X 4 = 16 5 X 4 = 20 6 X 4 = 24 7 X 4 = 28 8 X 4 = 32 9 X 4 = 36 \n",
      "                                            5 X 5 = 25 6 X 5 = 30 7 X 5 = 35 8 X 5 = 40 9 X 5 = 45 \n",
      "                                                       6 X 6 = 36 7 X 6 = 42 8 X 6 = 48 9 X 6 = 54 \n",
      "                                                                  7 X 7 = 49 8 X 7 = 56 9 X 7 = 63 \n",
      "                                                                             8 X 8 = 64 9 X 8 = 72 \n",
      "                                                                                        9 X 9 = 81 \n"
     ]
    }
   ],
   "source": [
    "for i in range(1,10):\n",
    "    for m in range(1,i):\n",
    "        print(\"{}   {}   {:<2}\".format(' ',' ',' '),end=' ')\n",
    "    for j in range(i,10):\n",
    "        print(\"{} X {} = {:<2}\".format(j,i,j*i),end=' ')\n",
    "    print()"
   ]
  }
 ],
 "metadata": {
  "kernelspec": {
   "display_name": "Python 3",
   "language": "python",
   "name": "python3"
  }
 },
 "nbformat": 4,
 "nbformat_minor": 2
}
