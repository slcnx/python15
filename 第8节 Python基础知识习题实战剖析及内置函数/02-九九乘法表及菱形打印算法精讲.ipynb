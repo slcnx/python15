{
 "cells": [
  {
   "cell_type": "markdown",
   "metadata": {},
   "source": [
    "# 打印菱形\n",
    "\n",
    "    *\n",
    "    ***\n",
    "    *****\n",
    "    *******\n",
    "    *****\n",
    "    ***\n",
    "    *\n",
    "    \n",
    "    1\n",
    "    3\n",
    "    5\n",
    "    7\n",
    "    5\n",
    "    3\n",
    "    1\n",
    "\n",
    "    3\n",
    "    2\n",
    "    1\n",
    "    0\n",
    "    1\n",
    "    2\n",
    "    3"
   ]
  },
  {
   "cell_type": "code",
   "execution_count": 1,
   "metadata": {},
   "outputs": [
    {
     "name": "stdout",
     "output_type": "stream",
     "text": [
      "   *\n",
      "  ***\n",
      " *****\n",
      "*******\n",
      " *****\n",
      "  ***\n",
      "   *\n"
     ]
    }
   ],
   "source": [
    "for i in range(-3,4):\n",
    "    print(' '*abs(i),end='')\n",
    "    print('*'*(7-(abs(i)*2)))"
   ]
  },
  {
   "cell_type": "code",
   "execution_count": 2,
   "metadata": {},
   "outputs": [
    {
     "name": "stdout",
     "output_type": "stream",
     "text": [
      "   *\n",
      "  ***\n",
      " *****\n",
      "*******\n",
      " *****\n",
      "  ***\n",
      "   *\n"
     ]
    }
   ],
   "source": [
    "#优化\n",
    "for i in range(-3,4):\n",
    "    print(' '*abs(i), '*'*(7-(abs(i)*2)), sep='')"
   ]
  },
  {
   "cell_type": "markdown",
   "metadata": {},
   "source": [
    "# 打印闪电\n",
    "\n",
    "     空格\n",
    "     3\n",
    "     2\n",
    "     1\n",
    "     0\n",
    "     3\n",
    "     3\n",
    "     3\n",
    "\n",
    "\n",
    "     个数\n",
    "     1\n",
    "     2\n",
    "     3\n",
    "     7\n",
    "     3\n",
    "     2\n",
    "     1\n",
    " "
   ]
  },
  {
   "cell_type": "code",
   "execution_count": 9,
   "metadata": {},
   "outputs": [
    {
     "name": "stdout",
     "output_type": "stream",
     "text": [
      "   *\n",
      "  **\n",
      " ***\n",
      "*******\n",
      "   ***\n",
      "   **\n",
      "   *\n"
     ]
    }
   ],
   "source": [
    "for i in range(-3,4):\n",
    "    if i < 0:\n",
    "        print(' '*abs(i), '*'*(4-abs(-i)), sep='')\n",
    "    elif i == 0:\n",
    "        print('*'*7)\n",
    "    elif i > 0:\n",
    "        print(' '*3, '*'*(4-abs(-i)), sep='')"
   ]
  },
  {
   "cell_type": "code",
   "execution_count": null,
   "metadata": {},
   "outputs": [],
   "source": []
  },
  {
   "cell_type": "code",
   "execution_count": null,
   "metadata": {},
   "outputs": [],
   "source": []
  }
 ],
 "metadata": {
  "kernelspec": {
   "display_name": "Python 3",
   "language": "python",
   "name": "python3"
  },
  "language_info": {
   "codemirror_mode": {
    "name": "ipython",
    "version": 3
   },
   "file_extension": ".py",
   "mimetype": "text/x-python",
   "name": "python",
   "nbconvert_exporter": "python",
   "pygments_lexer": "ipython3",
   "version": "3.6.5"
  }
 },
 "nbformat": 4,
 "nbformat_minor": 2
}
